{
 "cells": [
  {
   "cell_type": "markdown",
   "metadata": {},
   "source": [
    "#  用猜数字教六个月前的自己Python入门\n",
    "  假如我们要让程序随机生成一个数字，该如何实现？一般来说，一门语言里会封装一个函数来生成随机数。\n",
    "  这个函数就是random.randint().它的意思是随机生成一个指定范围内的整数。那么如何在程序中调用这个函数？\n",
    "\n",
    " ### import \n",
    " 我们使用 import 让你的程序实现更多的功能。来看一下Python官方文档给的解释：\n",
    " Python code in one module gains access to the code in another module by the process of importing it. \n",
    " 这里先不要理解那么深入，大概知道它的意思就行：通过import来导入一些可使用的功能。\n",
    " 这里我们用："
   ]
  },
  {
   "cell_type": "code",
   "execution_count": null,
   "metadata": {
    "collapsed": true
   },
   "outputs": [],
   "source": [
    "import random"
   ]
  },
  {
   "cell_type": "markdown",
   "metadata": {},
   "source": [
    "搬运过来random这个功能模块了，我们就要调用函数 random.randint().\n",
    "这里引入变量(variable)的概念:在编程中，变量只不过是用来指代某个东西的名字。"
   ]
  },
  {
   "cell_type": "code",
   "execution_count": null,
   "metadata": {
    "collapsed": true
   },
   "outputs": [],
   "source": [
    "num = random.randint(0,20)"
   ]
  },
  {
   "cell_type": "markdown",
   "metadata": {},
   "source": [
    "这一行的意思是：先用random.randint()生成0到20之间的一个随机整数，然后用x指代这个数\n",
    "\n",
    "我们电脑生成的随机数了，如果我们需要在电脑屏幕上显示这个随机数，该如何显示呢？这就用到了最最基本的函数print()"
   ]
  },
  {
   "cell_type": "code",
   "execution_count": 1,
   "metadata": {
    "scrolled": true
   },
   "outputs": [
    {
     "name": "stdout",
     "output_type": "stream",
     "text": [
      "the number is: 13\n"
     ]
    }
   ],
   "source": [
    "import random\n",
    "num = random.randint(0,20)\n",
    "print(\"the number is:\",num)"
   ]
  },
  {
   "cell_type": "markdown",
   "metadata": {},
   "source": [
    "下面介绍print函数的用法："
   ]
  },
  {
   "cell_type": "code",
   "execution_count": 3,
   "metadata": {},
   "outputs": [
    {
     "name": "stdout",
     "output_type": "stream",
     "text": [
      "Hello,world\n",
      "Hello world\n",
      "Hello,world\n",
      "The answer is 4\n",
      "There are <4294967296> possibilities!\n"
     ]
    }
   ],
   "source": [
    "print(\"Hello,world\")\n",
    "print(\"Hello\",\"world\")\n",
    "wd=\"world\"\n",
    "print(\"Hello,%s\"% wd) \n",
    "print(\"The answer is\", 2*2)\n",
    "print(\"There are <\", 2**32, \"> possibilities!\", sep=\"\") #**两个乘号就是乘方,比如2**4,结果就是2的4次方16"
   ]
  },
  {
   "cell_type": "markdown",
   "metadata": {},
   "source": [
    "print()函数大许如此，这里只简要介绍到这里，下面说说上面代码中的"
   ]
  },
  {
   "cell_type": "code",
   "execution_count": null,
   "metadata": {
    "collapsed": true
   },
   "outputs": [],
   "source": [
    "wd=\"world\"\n",
    "print(\"Hello,%s\"% wd) "
   ]
  },
  {
   "cell_type": "markdown",
   "metadata": {},
   "source": [
    "字符串可以包含格式化字符 %s，这个你之前也见过的。你只要将格式化的变量放到字符串中，再紧跟着一个百分号 % (percent)，再紧跟着变量名即可。唯一要注意的地方，是如果你想要在字符串中通过格式化字符放入多个变量的时候，你需要将变量放到 ( ) 圆括号(parenthesis)中，而且变量之间用 , 逗号(comma)隔开。"
   ]
  },
  {
   "cell_type": "code",
   "execution_count": 5,
   "metadata": {},
   "outputs": [
    {
     "name": "stdout",
     "output_type": "stream",
     "text": [
      "I'm 19 years old ,He is a man, She is 175 cm\n"
     ]
    }
   ],
   "source": [
    "age = 19\n",
    "sex = \"man\"\n",
    "height = 175\n",
    "print(\"I'm %d years old ,He is a %s, She is %d cm\"%(age,sex,height))"
   ]
  },
  {
   "cell_type": "markdown",
   "metadata": {},
   "source": [
    "%s,%d,%r 的区别：\n",
    "%s可代表字符串\"man\"，而%d用于数字，%r用于显示被函数repr处理后的字符"
   ]
  },
  {
   "cell_type": "code",
   "execution_count": 6,
   "metadata": {},
   "outputs": [
    {
     "name": "stdout",
     "output_type": "stream",
     "text": [
      "zzz\n",
      "'zzz'\n"
     ]
    }
   ],
   "source": [
    "QWE= \"zzz\"\n",
    "print(\"%s\"%QWE)\n",
    "print(\"%r\"%QWE)"
   ]
  },
  {
   "cell_type": "markdown",
   "metadata": {},
   "source": [
    "我们回到猜数字游戏中来，有时候我们需要从键盘上获取输入，这就需要用到input()函数，input()函数默认返回的类型是字符串类型，如果我们希望得到int类型的数，那么我们就要用到int()函数："
   ]
  },
  {
   "cell_type": "code",
   "execution_count": 11,
   "metadata": {
    "scrolled": true
   },
   "outputs": [
    {
     "name": "stdout",
     "output_type": "stream",
     "text": [
      ">11\n",
      "11\n",
      ">python\n",
      "python\n",
      ">error\n"
     ]
    },
    {
     "ename": "ValueError",
     "evalue": "invalid literal for int() with base 10: 'error'",
     "output_type": "error",
     "traceback": [
      "\u001b[1;31m---------------------------------------------------------------------------\u001b[0m",
      "\u001b[1;31mValueError\u001b[0m                                Traceback (most recent call last)",
      "\u001b[1;32m<ipython-input-11-f3acec9308cc>\u001b[0m in \u001b[0;36m<module>\u001b[1;34m()\u001b[0m\n\u001b[0;32m      3\u001b[0m \u001b[0my\u001b[0m \u001b[1;33m=\u001b[0m \u001b[0minput\u001b[0m\u001b[1;33m(\u001b[0m\u001b[1;34m\">\"\u001b[0m\u001b[1;33m)\u001b[0m\u001b[1;33m\u001b[0m\u001b[0m\n\u001b[0;32m      4\u001b[0m \u001b[0mprint\u001b[0m\u001b[1;33m(\u001b[0m\u001b[0my\u001b[0m\u001b[1;33m)\u001b[0m\u001b[1;33m\u001b[0m\u001b[0m\n\u001b[1;32m----> 5\u001b[1;33m \u001b[0mz\u001b[0m \u001b[1;33m=\u001b[0m \u001b[0mint\u001b[0m\u001b[1;33m(\u001b[0m\u001b[0minput\u001b[0m\u001b[1;33m(\u001b[0m\u001b[1;34m\">\"\u001b[0m\u001b[1;33m)\u001b[0m\u001b[1;33m)\u001b[0m\u001b[1;33m\u001b[0m\u001b[0m\n\u001b[0m\u001b[0;32m      6\u001b[0m \u001b[0mprint\u001b[0m\u001b[1;33m(\u001b[0m\u001b[0mz\u001b[0m\u001b[1;33m)\u001b[0m\u001b[1;33m\u001b[0m\u001b[0m\n",
      "\u001b[1;31mValueError\u001b[0m: invalid literal for int() with base 10: 'error'"
     ]
    }
   ],
   "source": [
    "x = int(input(\">\"))\n",
    "print(x)\n",
    "y = input(\">\")\n",
    "print(y)\n",
    "z = int(input(\">\"))\n",
    "print(z)"
   ]
  },
  {
   "cell_type": "markdown",
   "metadata": {},
   "source": [
    "下面我们看一下猜数字游戏的要求：\n",
    "- 程序随机生成一个 20 以内的数字，用户有 10 次机会猜测\n",
    "- 程序根据用户输入，给予一定提示（大了、小了、正确）\n",
    "- 猜对或用完 10 次机会，游戏结束、\n",
    "审题之后我们知道，这里会用到循环结构，以及判断语句。既然判断就会有专有字符来比较：\n",
    "- \\+ plus 加号\n",
    "- \\- minus 减号\n",
    "- / slash 斜杠\n",
    "- \\* asterisk 星号\n",
    "- % percent 百分号\n",
    "- < less-than 小于号\n",
    "- \\> greater-than 大于号\n",
    "- <= less-than-equal 小于等于号\n",
    "- \\>= greater-than-equal 大于等于号\n",
    "- != 不等于号"
   ]
  },
  {
   "cell_type": "markdown",
   "metadata": {},
   "source": [
    "python 中的与：and  或： or\n",
    "\n",
    "下面先介绍判断语句，先看例子："
   ]
  },
  {
   "cell_type": "code",
   "execution_count": 13,
   "metadata": {},
   "outputs": [
    {
     "name": "stdout",
     "output_type": "stream",
     "text": [
      "student < school\n"
     ]
    }
   ],
   "source": [
    "school = 100\n",
    "student = 99\n",
    "if student < school :\n",
    "    print(\"student < school\")\n",
    "elif student > school:\n",
    "    print(\"student > school\")\n",
    "else :\n",
    "    print(\"student == school\")"
   ]
  },
  {
   "cell_type": "markdown",
   "metadata": {},
   "source": [
    "if 语句的下一行需要 4 个空格的缩进？ 行尾的冒号的作用是告诉 Python 接下来你要创建一个新的代码区段。这根你创建函数时的冒号是一个道理。\n",
    "\n",
    "下面介绍while循环：\n",
    "while 循环，它所作的和 if 语句类似，也是去检查一个布尔表达式（eg.student< school）的真假，不一样的是它下面的代码片段不是只被执行一次，而是执行完后再调回到 while 所在的位置，如此重复进行，直到 while 表达式为 False 为止"
   ]
  },
  {
   "cell_type": "code",
   "execution_count": 1,
   "metadata": {},
   "outputs": [
    {
     "name": "stdout",
     "output_type": "stream",
     "text": [
      "0\n",
      "1\n",
      "2\n",
      "3\n",
      "4\n"
     ]
    }
   ],
   "source": [
    "num = 5\n",
    "x=0\n",
    "while x< num :\n",
    "    print(x)\n",
    "    x=x+1\n",
    "    "
   ]
  },
  {
   "cell_type": "markdown",
   "metadata": {},
   "source": [
    "我们可以把上面的介绍结合起来：构成猜数字的启始代码："
   ]
  },
  {
   "cell_type": "code",
   "execution_count": 1,
   "metadata": {
    "scrolled": true
   },
   "outputs": [
    {
     "name": "stdout",
     "output_type": "stream",
     "text": [
      "please guess a number < 20\n",
      ">10\n",
      "smaller,please guess once more\n",
      ">15\n",
      "bigger,please guess once more\n",
      ">12\n",
      "smaller,please guess once more\n",
      ">13\n"
     ]
    }
   ],
   "source": [
    "import random\n",
    "num = random.randint(0,20)\n",
    "print(\"please guess a number < 20\")\n",
    "x = int(input(\">\"))\n",
    "while x != num :\n",
    "    if x > num:\n",
    "        print(\"bigger,please guess once more\")\n",
    "        x = int(input(\">\"))       \n",
    "    else :\n",
    "        print(\"smaller,please guess once more\")\n",
    "        x = int(input(\">\"))\n"
   ]
  },
  {
   "cell_type": "markdown",
   "metadata": {},
   "source": [
    "然后用count统计次数，用if语句判断结果，即可完成："
   ]
  },
  {
   "cell_type": "code",
   "execution_count": 2,
   "metadata": {},
   "outputs": [
    {
     "name": "stdout",
     "output_type": "stream",
     "text": [
      "please guess a number < 20\n",
      ">10\n",
      "smaller,please guess once more\n",
      ">11\n",
      "smaller,please guess once more\n",
      ">12\n",
      "smaller,please guess once more\n",
      ">13\n",
      "smaller,please guess once more\n",
      ">14\n",
      "you are right\n"
     ]
    }
   ],
   "source": [
    "import random\n",
    "# random.randint(x，y) 生成一个指定范围内的整数\n",
    "num = random.randint(0,20)\n",
    "# 统计用户猜测的次数\n",
    "count = 1\n",
    "# 用户猜的数字\n",
    "print(\"please guess a number < 20\")\n",
    "# python3里面input()默认接收到的是str类型\n",
    "x = int(input(\">\"))\n",
    "\n",
    "while x != num and count < 10:\n",
    "    if x > num:\n",
    "        print(\"bigger,please guess once more\")\n",
    "        x = int(input(\">\"))\n",
    "        count = count + 1\n",
    "    else :\n",
    "        print(\"smaller,please guess once more\")\n",
    "        x = int(input(\">\"))\n",
    "        count = count + 1\n",
    "\n",
    "\n",
    "if count < 10 :\n",
    "    print(\"you are right\")\n",
    "else :\n",
    "    print(\"sorry,game over\")\n"
   ]
  },
  {
   "cell_type": "code",
   "execution_count": null,
   "metadata": {
    "collapsed": true
   },
   "outputs": [],
   "source": []
  }
 ],
 "metadata": {
  "kernelspec": {
   "display_name": "Python 3",
   "language": "python",
   "name": "python3"
  },
  "language_info": {
   "codemirror_mode": {
    "name": "ipython",
    "version": 3
   },
   "file_extension": ".py",
   "mimetype": "text/x-python",
   "name": "python",
   "nbconvert_exporter": "python",
   "pygments_lexer": "ipython3",
   "version": "3.6.1"
  }
 },
 "nbformat": 4,
 "nbformat_minor": 2
}
